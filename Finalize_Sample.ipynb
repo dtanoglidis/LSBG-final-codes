{
 "cells": [
  {
   "cell_type": "markdown",
   "metadata": {},
   "source": [
    "# Finalize Sample\n",
    "\n",
    "In this notebook, I finalize the LSBG sample, by doing the following:\n",
    "\n",
    "- Get the latest Galfit segmap results.\n",
    "- Correct for extinction.\n",
    "- Include the large ($r^{1/2} > 20''$) galaxies. \n",
    "- Reject those with $\\langle \\mu \\rangle_e < 24.3''$ and $R_{eff} <2.5''$."
   ]
  },
  {
   "cell_type": "code",
   "execution_count": 1,
   "metadata": {},
   "outputs": [],
   "source": [
    "#Import stuff\n",
    "import numpy as np \n",
    "import pandas as pd\n",
    "from astropy.table import Table\n",
    "from astropy.io import fits\n",
    "from matplotlib import rcParams\n",
    "import matplotlib.pyplot as plt\n",
    "%matplotlib inline"
   ]
  },
  {
   "cell_type": "markdown",
   "metadata": {},
   "source": [
    "### Import the Galfit results"
   ]
  },
  {
   "cell_type": "code",
   "execution_count": 2,
   "metadata": {},
   "outputs": [],
   "source": [
    "Galfit_res_s = fits.open('y3_gold_2_2_lsbg_galfit_v4.6.fits')\n",
    "# =========================================================\n",
    "# =========================================================\n",
    "# =========================================================\n",
    "object_id_LSBGs = Galfit_res_s[1].data[\"COADD_OBJECT_ID\"]\n",
    "    \n",
    "# Coordinates - Sextractor\n",
    "RA = Galfit_res_s[1].data[\"RA\"]\n",
    "DEC = Galfit_res_s[1].data[\"DEC\"]\n",
    "\n",
    "# Coordinates - Galfit\n",
    "RA_gf = Galfit_res_s[1].data[\"ALPHA_J2000\"]\n",
    "DEC_gf = Galfit_res_s[1].data[\"DELTA_J2000\"]\n",
    "\n",
    "# =========================================================\n",
    "# =========================================================\n",
    "# A, B image\n",
    "A_IMAGE = Galfit_res_s[1].data[\"A_IMAGE\"]\n",
    "B_IMAGE = Galfit_res_s[1].data[\"B_IMAGE\"]\n",
    "\n",
    "# Define Ellipticity - Sextractor\n",
    "Ell = 1.0 - B_IMAGE/A_IMAGE\n",
    "\n",
    "# Axis ratio\n",
    "AR = Galfit_res_s[1].data[\"AR\"]\n",
    "# Define Ellipticity - Galfit\n",
    "Ell_gf = 1.0 - AR\n",
    "#print(Ell-Ell_gf)\n",
    "\n",
    "# ==========================================================\n",
    "# ==========================================================\n",
    "# Effective radius in g-band and error \n",
    "R_eff_g = 0.263*Galfit_res_s[1].data[\"RE_G\"]\n",
    "R_eff_g_err = 0.263*Galfit_res_s[1].data[\"RE_ERR_G\"]\n",
    "# Effective radius in r-band and error\n",
    "R_eff_r = 0.263*Galfit_res_s[1].data[\"RE_R\"]\n",
    "R_eff_r_err = 0.263*Galfit_res_s[1].data[\"RE_ERR_R\"]\n",
    "# Effective radius in i-band and error\n",
    "R_eff_i = 0.263*Galfit_res_s[1].data[\"RE_I\"]\n",
    "R_eff_i_err = 0.263*Galfit_res_s[1].data[\"RE_ERR_I\"]\n",
    "# ========================================================\n",
    "# ========================================================\n",
    "\n",
    "# Flux radius in g-band\n",
    "flux_radius_g = Galfit_res_s[1].data[\"FLUX_RADIUS_G\"]\n",
    "# Flux radius in r-band\n",
    "flux_radius_r = Galfit_res_s[1].data[\"FLUX_RADIUS_R\"]\n",
    "# Flux radius in i-band\n",
    "flux_radius_i = Galfit_res_s[1].data[\"FLUX_RADIUS_I\"]\n",
    "# ========================================================\n",
    "# ========================================================\n",
    "# Sersic index\n",
    "n_ser = Galfit_res_s[1].data[\"N\"]\n",
    "n_ser_err = Galfit_res_s[1].data[\"N_ERR\"]\n",
    "\n",
    "# Galfitm Magnitudes\n",
    "mag_gf_g = Galfit_res_s[1].data[\"MAG_G\"]\n",
    "mag_gf_r = Galfit_res_s[1].data[\"MAG_R\"]\n",
    "mag_gf_i = Galfit_res_s[1].data[\"MAG_I\"]\n",
    "\n",
    "\n",
    "# Galfitm Magnitude errors\n",
    "magerr_gf_g = Galfit_res_s[1].data[\"MAG_ERR_G\"]\n",
    "magerr_gf_r = Galfit_res_s[1].data[\"MAG_ERR_R\"]\n",
    "magerr_gf_i = Galfit_res_s[1].data[\"MAG_ERR_I\"]\n",
    "\n",
    "# SExtractor (MAG_AUTO) magnitudes\n",
    "mag_auto_g = Galfit_res_s[1].data[\"MAG_AUTO_G\"]\n",
    "mag_auto_r = Galfit_res_s[1].data[\"MAG_AUTO_R\"]\n",
    "mag_auto_i = Galfit_res_s[1].data[\"MAG_AUTO_I\"]\n",
    "\n",
    "# MAG_AUTO magnitude errors\n",
    "magerr_auto_g = Galfit_res_s[1].data[\"MAGERR_AUTO_G\"]\n",
    "magerr_auto_r = Galfit_res_s[1].data[\"MAGERR_AUTO_R\"]\n",
    "magerr_auto_i = Galfit_res_s[1].data[\"MAGERR_AUTO_I\"]\n",
    "# ====================================================\n",
    "# ====================================================\n",
    "# Chi-squared values\n",
    "chi2_g = Galfit_res_s[1].data['CHI2NU_G']\n",
    "chi2_r = Galfit_res_s[1].data['CHI2NU_R']\n",
    "chi2_i = Galfit_res_s[1].data['CHI2NU_I']\n",
    "\n",
    "#Galfit_res_s[1].header.keys"
   ]
  },
  {
   "cell_type": "markdown",
   "metadata": {},
   "source": [
    "#### Import the Extinction Results"
   ]
  },
  {
   "cell_type": "code",
   "execution_count": 3,
   "metadata": {},
   "outputs": [],
   "source": [
    "Ext_res = fits.open('Extinction.fits')\n",
    "#Ext_res[1].header.keys\n",
    "object_id_EXT = Ext_res[1].data[\"COADD_OBJECT_ID\"] #The coadd \n",
    "Ext_ebv_sfd98 = Ext_res[1].data[\"ebv_sfd98\"]"
   ]
  },
  {
   "cell_type": "markdown",
   "metadata": {},
   "source": [
    "Now create a dataframe that contains the coadd_ids of all objects in the extinction catalog..."
   ]
  },
  {
   "cell_type": "code",
   "execution_count": 4,
   "metadata": {},
   "outputs": [],
   "source": [
    "df_all = pd.DataFrame({'all_coadds':np.asarray(object_id_EXT)}) #Dataframe that contains the \n",
    "# coadd object IDs for all objects we have extinction for\n",
    "# =======================================================================\n",
    "# =======================================================================\n",
    "df_LSBGs =  pd.DataFrame({'LSBG_coadds':np.asarray(object_id_LSBGs)}) #Dataframe that contains the \n",
    "# coadd object IDs for LSBGs"
   ]
  },
  {
   "cell_type": "code",
   "execution_count": 5,
   "metadata": {},
   "outputs": [
    {
     "name": "stdout",
     "output_type": "stream",
     "text": [
      "21292\n"
     ]
    }
   ],
   "source": [
    "mask = df_all['all_coadds'].isin(object_id_LSBGs)\n",
    "object_ids_true = object_id_EXT[mask]\n",
    "print(len(object_ids_true)) \n",
    "extinction = Ext_ebv_sfd98[mask]\n",
    "# =====================================\n",
    "# =====================================\n",
    "sort = np.argsort(object_ids_true)\n",
    "ext_sort = extinction[sort]   #Use the sorted extinction to correct the magnitudes. "
   ]
  },
  {
   "cell_type": "markdown",
   "metadata": {},
   "source": [
    "##### Correct the magnitudes for extinction\n",
    "\n",
    "I will correct the magnitudes for galaxy extinction, based on the following conversions:\n",
    "\n",
    "mag_g = mag_g - 3.186$\\times$ebv_sfd98\n",
    "\n",
    "mag_r = mag_r - 2.140$\\times$ebv_sfd98\n",
    "\n",
    "mag_i = mag_i - 1.569$\\times$ebv_sfd98"
   ]
  },
  {
   "cell_type": "code",
   "execution_count": 6,
   "metadata": {},
   "outputs": [],
   "source": [
    "# Correct the galfit magnitudes\n",
    "mag_gf_g_cor = mag_gf_g - 3.186*ext_sort\n",
    "mag_gf_r_cor = mag_gf_r - 2.140*ext_sort\n",
    "mag_gf_i_cor = mag_gf_i - 1.569*ext_sort\n",
    "\n",
    "# Correct the mag_auto magnitudes\n",
    "mag_auto_g_cor = mag_auto_g - 3.186*ext_sort\n",
    "mag_auto_r_cor = mag_auto_r - 2.140*ext_sort\n",
    "mag_auto_i_cor = mag_auto_i - 1.569*ext_sort"
   ]
  },
  {
   "cell_type": "markdown",
   "metadata": {},
   "source": [
    "### Mean and central surface brightness calculations\n",
    "\n",
    "The mean surface brightness can be calculated from the effective radius and the magnitude as:\n",
    "\n",
    "\\begin{equation}\n",
    "\\left\\langle \\mu \\right\\rangle_{eff} = m + 2.5\\log (2\\pi R_{eff}^2)\n",
    "\\end{equation}\n",
    "\n",
    "Where in $\\mu$ we use the extinction-corrected apparent magnitude in each one of the three bands, $g, r, i$."
   ]
  },
  {
   "cell_type": "code",
   "execution_count": 7,
   "metadata": {},
   "outputs": [],
   "source": [
    "# mean surface brightness in g-band\n",
    "mu_mean_g = mag_gf_g_cor + 2.5*np.log10(2.0*np.pi*(R_eff_g**2.0))\n",
    "# mean surface brightness in r-band\n",
    "mu_mean_r = mag_gf_r_cor + 2.5*np.log10(2.0*np.pi*(R_eff_r**2.0))\n",
    "# mean surface brightness in i-band\n",
    "mu_mean_i = mag_gf_i_cor + 2.5*np.log10(2.0*np.pi*(R_eff_i**2.0))"
   ]
  },
  {
   "cell_type": "markdown",
   "metadata": {},
   "source": [
    "For this part we will need to estimate the central surface brightness $\\mu_0$. This is given by:\n",
    "\n",
    "\\begin{equation}\n",
    "\\mu_0 = \\mu_e - \\frac{2.5 b}{\\ln(10)}\n",
    "\\end{equation}\n",
    "\n",
    "$b$ can be calculated by solving the equation:\n",
    "\n",
    "\\begin{equation}\n",
    "\\Gamma(2n) = 2\\gamma(2n,b),\n",
    "\\end{equation}\n",
    "where:\n",
    "\\begin{equation}\n",
    "\\gamma(2n,x) = \\int_0^x e^{-t}t^{2n-1} dt\n",
    "\\end{equation}\n",
    "the incomplete gamma function.\n",
    "\n",
    "Now, we have to estimate $\\mu_e$. To do that we use the mean surface brightness, $\\langle \\mu \\rangle_e$, calculated above.\n",
    "\n",
    "We have that: \n",
    "\\begin{equation}\n",
    "\\mu_e = \\langle \\mu \\rangle_e + 2.5\\log[f(n)]\n",
    "\\end{equation}\n",
    "\n",
    "Where:\n",
    "\\begin{equation}\n",
    "f(n) = \\frac{ne^b}{b^{2n}}\\Gamma(2n)\n",
    "\\end{equation}\n",
    "and\n",
    "\\begin{equation}\n",
    "\\Gamma(2n) = \\int_0^\\infty e^{-x} x^{2n - 1} dx\n",
    "\\end{equation}\n",
    "\n",
    "\n",
    "The final formula for $\\mu_0$ is:\n",
    "\n",
    "\\begin{equation}\n",
    "\\mu_0 = \\langle \\mu \\rangle_e + 2.5\\log[f(n)] - \\frac{2.5 b}{\\ln(10)}\n",
    "\\end{equation}\n",
    "\n",
    "with the needed parameters calculated as described above."
   ]
  },
  {
   "cell_type": "code",
   "execution_count": 8,
   "metadata": {},
   "outputs": [],
   "source": [
    "# First part, calculation of b for a given n. Write a function that does that.\n",
    "from scipy.special import gamma\n",
    "from scipy.special import gammainc # Note that the incomplete gamma function \n",
    "from scipy.optimize import root_scalar\n",
    "\n",
    "def funct(x, *args):\n",
    "    \"\"\"\n",
    "    The function to be minimized\n",
    "    \"\"\"\n",
    "    n = args[0]\n",
    "    fun = 2.0*gammainc(2.0*n,x) - 1.0\n",
    "    return fun\n",
    "    \n",
    "def b_return(n):\n",
    "    \"\"\"\n",
    "    This function returns the parameter b for a given\n",
    "    Sersic index n, solving the equations described above\n",
    "    \"\"\"\n",
    "    \n",
    "    b_ret = root_scalar(funct, args=(n), method='bisect', bracket=[0.01, 40])\n",
    "    return b_ret.root\n",
    "    \n",
    "b_n = np.zeros(len(n_ser))\n",
    "\n",
    "\n",
    "for i in range(len(b_n)):\n",
    "    b_n[i] = b_return(n_ser[i])   "
   ]
  },
  {
   "cell_type": "code",
   "execution_count": 9,
   "metadata": {},
   "outputs": [],
   "source": [
    "# Now calculate the function f(n)\n",
    "f_n = (n_ser*np.exp(b_n)/(b_n**(2.0*n_ser)))*gamma(2.0*n_ser)\n",
    "\n",
    "# Calculate central surface brightness for the three bands\n",
    "# g-band first\n",
    "mu_cent_g = mu_mean_g + 2.5*np.log10(f_n) -  2.5*b_n/np.log(10.0)\n",
    "# r-band \n",
    "mu_cent_r = mu_mean_r + 2.5*np.log10(f_n) -  2.5*b_n/np.log(10.0)\n",
    "# i-band\n",
    "mu_cent_i = mu_mean_i + 2.5*np.log10(f_n) -  2.5*b_n/np.log(10.0)"
   ]
  },
  {
   "cell_type": "markdown",
   "metadata": {},
   "source": [
    "### Now perform the selection cuts\n",
    "\n",
    "Reject those with $R_{eff} > 2.5''$ and $\\langle \\mu \\rangle_e < 24.3''$, as measured through the galfit parameters.\n",
    "\n",
    "Define the cuts first."
   ]
  },
  {
   "cell_type": "code",
   "execution_count": 10,
   "metadata": {},
   "outputs": [],
   "source": [
    "cuts = (mu_mean_g>=24.3)&(R_eff_g>=2.5)"
   ]
  },
  {
   "cell_type": "markdown",
   "metadata": {},
   "source": [
    "Apply this cut to all the parameters:"
   ]
  },
  {
   "cell_type": "code",
   "execution_count": 11,
   "metadata": {},
   "outputs": [
    {
     "name": "stdout",
     "output_type": "stream",
     "text": [
      "20983\n"
     ]
    }
   ],
   "source": [
    "# Coadd ids\n",
    "coadd_n = object_id_LSBGs[cuts]\n",
    "\n",
    "# Coordinates - Sextractor\n",
    "RA_n = RA[cuts] \n",
    "DEC_n = DEC[cuts]\n",
    "# Coordinates - Galfit\n",
    "RA_gf_n = RA_gf[cuts]\n",
    "DEC_gf_n = DEC_gf[cuts]\n",
    "# ===========================================\n",
    "# ===========================================\n",
    "# A, B image\n",
    "A_IMAGE_n = A_IMAGE[cuts]\n",
    "B_IMAGE_n = B_IMAGE[cuts]\n",
    "\n",
    "# Ellipticity - Sextractor\n",
    "Ell_n = Ell[cuts]\n",
    "# Ellipticity - Galfit\n",
    "Ell_gf_n = Ell_gf[cuts]\n",
    "# ===========================================\n",
    "# ===========================================\n",
    "# Effective Radii\n",
    "\n",
    "# g-band\n",
    "R_eff_g_n = R_eff_g[cuts]\n",
    "R_eff_g_err_n = R_eff_g_err[cuts]\n",
    "# r-band\n",
    "R_eff_r_n = R_eff_r[cuts]\n",
    "R_eff_r_err_n = R_eff_r_err[cuts]\n",
    "# i-band\n",
    "R_eff_i_n = R_eff_i[cuts]\n",
    "R_eff_i_err_n = R_eff_i_err[cuts]\n",
    "# ===========================================\n",
    "# Flux Radii\n",
    "\n",
    "# g-band\n",
    "flux_radius_g_n = flux_radius_g[cuts]\n",
    "# r-band\n",
    "flux_radius_r_n = flux_radius_r[cuts]\n",
    "# i-band\n",
    "flux_radius_i_n = flux_radius_i[cuts]\n",
    "\n",
    "# ===========================================\n",
    "# ===========================================\n",
    "# Sersic index \n",
    "n_ser_n = n_ser[cuts]\n",
    "n_ser_err_n = n_ser_err[cuts]\n",
    "\n",
    "# Galfit magnitudes\n",
    "mag_gf_g_cor_n = mag_gf_g_cor[cuts]\n",
    "mag_gf_r_cor_n = mag_gf_r_cor[cuts]\n",
    "mag_gf_i_cor_n = mag_gf_i_cor[cuts]\n",
    "\n",
    "\n",
    "# Galfit magnitude errors\n",
    "magerr_gf_g_n = magerr_gf_g[cuts]\n",
    "magerr_gf_r_n = magerr_gf_r[cuts]\n",
    "magerr_gf_i_n = magerr_gf_i[cuts]\n",
    "\n",
    "\n",
    "# MAG_AUTO magnitudes\n",
    "mag_auto_g_cor_n = mag_auto_g_cor[cuts]\n",
    "mag_auto_r_cor_n = mag_auto_r_cor[cuts]\n",
    "mag_auto_i_cor_n = mag_auto_i_cor[cuts]\n",
    "\n",
    "# MAG_AUTO magnitude errors\n",
    "magerr_auto_g_n = magerr_auto_g[cuts]\n",
    "magerr_auto_r_n = magerr_auto_r[cuts]\n",
    "magerr_auto_i_n = magerr_auto_i[cuts]\n",
    "# ============================================\n",
    "# ============================================\n",
    "\n",
    "# Extinction\n",
    "ext_sort_n = ext_sort[cuts]\n",
    "# ============================================\n",
    "# ============================================\n",
    "# mean surface \n",
    "mu_mean_g_n = mu_mean_g[cuts]\n",
    "mu_mean_r_n = mu_mean_r[cuts]\n",
    "mu_mean_i_n = mu_mean_i[cuts]\n",
    "\n",
    "# Central surface\n",
    "mu_cent_g_n = mu_cent_g[cuts]\n",
    "mu_cent_r_n = mu_cent_r[cuts]\n",
    "mu_cent_i_n = mu_cent_i[cuts]\n",
    "\n",
    "# ============================================\n",
    "# ============================================\n",
    "# Chi-squared \n",
    "chi2_g_n = chi2_g[cuts]\n",
    "chi2_r_n = chi2_r[cuts]\n",
    "chi2_i_n = chi2_i[cuts]\n",
    "\n",
    "print(len(n_ser_n))"
   ]
  },
  {
   "cell_type": "markdown",
   "metadata": {},
   "source": [
    "##### Exclude remaining bad objects\n",
    "\n",
    "Now, exclude 6 remaining bad objects (there may be more, but these were the ones I was able to find)."
   ]
  },
  {
   "cell_type": "code",
   "execution_count": 12,
   "metadata": {},
   "outputs": [],
   "source": [
    "bad_ids = [128602361,\n",
    "          129395781,\n",
    "          149763752,\n",
    "          261926262,\n",
    "          273410397,\n",
    "          338312228,\n",
    "          199492560,\n",
    "          227222314,\n",
    "          227913584,\n",
    "          279057265]"
   ]
  },
  {
   "cell_type": "markdown",
   "metadata": {},
   "source": [
    "Keep all, except these six."
   ]
  },
  {
   "cell_type": "code",
   "execution_count": 13,
   "metadata": {},
   "outputs": [],
   "source": [
    "# First a data frame that contains all the coadds\n",
    "df_LSBG_n = pd.DataFrame({'LSBG_coadds':np.asarray(coadd_n)}) \n",
    "# ================================================================\n",
    "# ================================================================\n",
    "# Then a data frame that contains just the bad coadds\n",
    "df_bad = pd.DataFrame({'bad_coadds':np.asarray(bad_ids)}) \n",
    "\n",
    "mask = df_LSBG_n['LSBG_coadds'].isin(bad_ids)"
   ]
  },
  {
   "cell_type": "markdown",
   "metadata": {},
   "source": [
    "Now keep just the mask"
   ]
  },
  {
   "cell_type": "code",
   "execution_count": 14,
   "metadata": {},
   "outputs": [
    {
     "name": "stdout",
     "output_type": "stream",
     "text": [
      "20977\n"
     ]
    }
   ],
   "source": [
    "# Coadd object id\n",
    "object_id_f = coadd_n[~mask]\n",
    "\n",
    "# ===============================================\n",
    "# ===============================================\n",
    "# RA and DEC - SExtractor\n",
    "RA_f = RA_n[~mask]\n",
    "DEC_f = DEC_n[~mask]\n",
    "# RA and DEC - Galfit\n",
    "RA_gf_f = RA_gf_n[~mask]\n",
    "DEC_gf_f = DEC_gf_n[~mask]\n",
    "\n",
    "# A, B image\n",
    "A_IMAGE_f = A_IMAGE_n[~mask]\n",
    "B_IMAGE_f = B_IMAGE_n[~mask]\n",
    "\n",
    "# Ellipticity - SExtractor\n",
    "Ell_f = Ell_n[~mask]\n",
    "# Ellipticity - Galfit\n",
    "Ell_gf_f = Ell_gf_n[~mask]\n",
    "# ==============================================\n",
    "# ==============================================\n",
    "# Effective Radii\n",
    "\n",
    "# g-band\n",
    "R_eff_g_f = R_eff_g_n[~mask]\n",
    "R_eff_g_err_f = R_eff_g_err_n[~mask]\n",
    "# r-band\n",
    "R_eff_r_f = R_eff_r_n[~mask]\n",
    "R_eff_r_err_f = R_eff_r_err_n[~mask]\n",
    "# i-band\n",
    "R_eff_i_f = R_eff_i_n[~mask]\n",
    "R_eff_i_err_f = R_eff_i_err_n[~mask]\n",
    "# ============================================\n",
    "# Flux Radii\n",
    "\n",
    "# g-band\n",
    "flux_radius_g_f = flux_radius_g_n[~mask]\n",
    "# r-band\n",
    "flux_radius_r_f = flux_radius_r_n[~mask]\n",
    "# i-band\n",
    "flux_radius_i_f = flux_radius_i_n[~mask]\n",
    "# ============================================\n",
    "# ============================================\n",
    "# Sersic index \n",
    "n_ser_f = n_ser_n[~mask]\n",
    "n_ser_err_f = n_ser_err_n[~mask]\n",
    "\n",
    "# Galfit magnitudes\n",
    "mag_gf_g_cor_f = mag_gf_g_cor_n[~mask]\n",
    "mag_gf_r_cor_f = mag_gf_r_cor_n[~mask]\n",
    "mag_gf_i_cor_f = mag_gf_i_cor_n[~mask]\n",
    "\n",
    "# Galfit magnitude errors\n",
    "magerr_gf_g_f = magerr_gf_g_n [~mask]\n",
    "magerr_gf_r_f = magerr_gf_r_n [~mask]\n",
    "magerr_gf_i_f = magerr_gf_i_n [~mask]\n",
    "\n",
    "# MAG_AUTO magnitudes\n",
    "mag_auto_g_cor_f = mag_auto_g_cor_n[~mask]\n",
    "mag_auto_r_cor_f = mag_auto_r_cor_n[~mask]\n",
    "mag_auto_i_cor_f = mag_auto_i_cor_n[~mask]\n",
    "\n",
    "# MAG_AUTO magnitude errors\n",
    "magerr_auto_g_f = magerr_auto_g_n[~mask]\n",
    "magerr_auto_r_f = magerr_auto_r_n[~mask]\n",
    "magerr_auto_i_f = magerr_auto_i_n[~mask]\n",
    "\n",
    "\n",
    "extinction_f = ext_sort_n[~mask]\n",
    "\n",
    "# ============================================\n",
    "# ============================================\n",
    "# mean surface \n",
    "mu_mean_g_f = mu_mean_g_n[~mask]\n",
    "mu_mean_r_f = mu_mean_r_n[~mask]\n",
    "mu_mean_i_f = mu_mean_i_n[~mask]\n",
    "\n",
    "# Central surface\n",
    "mu_cent_g_f = mu_cent_g_n[~mask]\n",
    "mu_cent_r_f = mu_cent_r_n[~mask]\n",
    "mu_cent_i_f = mu_cent_i_n[~mask]\n",
    "\n",
    "# ============================================\n",
    "# ============================================\n",
    "# Chi-squared values\n",
    "chi2_g_f = chi2_g_n[~mask]\n",
    "chi2_r_f = chi2_r_n[~mask]\n",
    "chi2_i_f = chi2_i_n[~mask]\n",
    "\n",
    "print(len(n_ser_f))"
   ]
  },
  {
   "cell_type": "markdown",
   "metadata": {},
   "source": [
    "### Save in a csv file\n",
    "\n",
    "Save the ones that I have above; later I can add more."
   ]
  },
  {
   "cell_type": "code",
   "execution_count": 15,
   "metadata": {},
   "outputs": [],
   "source": [
    "from collections import OrderedDict\n",
    "\n",
    "#LSBG_df = pd.DataFrame( OrderedDict(( ('Coadd_id', pd.Series(object_id_f)),\n",
    "#                                      ('RA', pd.Series(RA_f)), ('DEC', pd.Series(DEC_f)),\n",
    "#                                   ('A_IMAGE',pd.Series(A_IMAGE_f)),('B_IMAGE',pd.Series(B_IMAGE_f)),\n",
    "#                                    ('R_eff_g', pd.Series(R_eff_f)),('R_eff_err_g', pd.Series(R_eff_err_f)),\n",
    "#                                     ('R_eff_i', pd.Series(R_eff_i_f)),('R_eff_err_i', pd.Series(R_eff_err_i_f)),\n",
    "#                                     ('n_ser', pd.Series(n_ser_f)),  ('n_ser_err', pd.Series(n_ser_err_f)),\n",
    "#                                     ('mag_g', pd.Series(mag_g_cor_f)),('mag_r', pd.Series(mag_r_cor_f)),('mag_i', pd.Series(mag_i_cor_f)),\n",
    "#                                     ('mag_auto_g', pd.Series(mag_auto_g_cor_f)),\n",
    "#                                    ('mag_auto_r', pd.Series(mag_auto_r_cor_f)),\n",
    "#                                    ('mag_auto_i', pd.Series(mag_auto_i_cor_f)),\n",
    "#                                    ('extinction', pd.Series(extinction_f)))))\n",
    "\n",
    "\n",
    "#LSBG_df.head()"
   ]
  },
  {
   "cell_type": "code",
   "execution_count": 16,
   "metadata": {},
   "outputs": [],
   "source": [
    "#LSBG_df.to_csv('LSBG_sample.csv')"
   ]
  },
  {
   "cell_type": "code",
   "execution_count": 17,
   "metadata": {},
   "outputs": [],
   "source": [
    "#coa = 199492560\n",
    "#print(zip(RA_f[object_id_f==coa],DEC_f[object_id_f==coa]))"
   ]
  },
  {
   "cell_type": "markdown",
   "metadata": {},
   "source": [
    "### Get random sample of 1000 LSBGs\n",
    "\n",
    "Get Coadd_ids and RA, DEC of 1000 LSBGs"
   ]
  },
  {
   "cell_type": "code",
   "execution_count": 18,
   "metadata": {},
   "outputs": [
    {
     "ename": "NameError",
     "evalue": "name 'ra_f' is not defined",
     "output_type": "error",
     "traceback": [
      "\u001b[0;31m---------------------------------------------------------------------------\u001b[0m",
      "\u001b[0;31mNameError\u001b[0m                                 Traceback (most recent call last)",
      "\u001b[0;32m<ipython-input-18-a56c926aae39>\u001b[0m in \u001b[0;36m<module>\u001b[0;34m()\u001b[0m\n\u001b[1;32m      6\u001b[0m \u001b[0;31m# Get teh ra and dec of the 1000 galaxies corresponding to the\u001b[0m\u001b[0;34m\u001b[0m\u001b[0;34m\u001b[0m\u001b[0m\n\u001b[1;32m      7\u001b[0m \u001b[0;31m# 1000 random integers above\u001b[0m\u001b[0;34m\u001b[0m\u001b[0;34m\u001b[0m\u001b[0m\n\u001b[0;32m----> 8\u001b[0;31m \u001b[0mra_rand\u001b[0m \u001b[0;34m=\u001b[0m \u001b[0mra_f\u001b[0m\u001b[0;34m[\u001b[0m\u001b[0mrands\u001b[0m\u001b[0;34m]\u001b[0m\u001b[0;34m;\u001b[0m\u001b[0mdec_rand\u001b[0m \u001b[0;34m=\u001b[0m \u001b[0mdec_f\u001b[0m\u001b[0;34m[\u001b[0m\u001b[0mrands\u001b[0m\u001b[0;34m]\u001b[0m\u001b[0;34m\u001b[0m\u001b[0m\n\u001b[0m\u001b[1;32m      9\u001b[0m \u001b[0;34m\u001b[0m\u001b[0m\n\u001b[1;32m     10\u001b[0m \u001b[0;31m# Create a dataframe and save it to a csv file\u001b[0m\u001b[0;34m\u001b[0m\u001b[0;34m\u001b[0m\u001b[0m\n",
      "\u001b[0;31mNameError\u001b[0m: name 'ra_f' is not defined"
     ]
    }
   ],
   "source": [
    "# First get 1000 random numbers from 1 to 20977\n",
    "rands = np.random.randint(0,20977,1000) \n",
    "# Get the coadd ids of the 1000 galaxies corresponding to the \n",
    "# 1000 random integers above\n",
    "random_coadd_ids = object_id_f[rands]\n",
    "# Get teh ra and dec of the 1000 galaxies corresponding to the \n",
    "# 1000 random integers above\n",
    "ra_rand = ra_f[rands];dec_rand = dec_f[rands]\n",
    "\n",
    "# Create a dataframe and save it to a csv file\n",
    "random_LSBG_df = pd.DataFrame({'coadd_ids': pd.Series(random_coadd_ids)},\n",
    "                             {'ra': pd.Series(ra_rand)},\n",
    "                             {'dec': pd.Series(dec_rand)})\n",
    "#random_LSBG_df.head(10)\n",
    "random_LSBG_df.to_csv('random_LSBGs_coadd_ra_dec.csv')\n"
   ]
  },
  {
   "cell_type": "markdown",
   "metadata": {},
   "source": [
    "### Create final catalog\n",
    "\n",
    "Here create the final catalog for the publication."
   ]
  },
  {
   "cell_type": "code",
   "execution_count": null,
   "metadata": {},
   "outputs": [],
   "source": [
    "LSBG_df = pd.DataFrame( OrderedDict(( \n",
    "    ('coadd_object_id', pd.Series(object_id_f)),\n",
    "    ('ra_se', pd.Series(RA_f)), ('dec_se', pd.Series(DEC_f)),\n",
    "    ('ra_gfm', pd.Series(RA_gf_f)), ('dec_gfm', pd.Series(DEC_gf_f)),\n",
    "    ('ebv_sfd98', pd.Series(extinction_f)),\n",
    "    ('ell_se',pd.Series(Ell_f)),('ell_gfm',pd.Series(Ell_gf_f)),\n",
    "    ('mag_auto_g_corr', pd.Series(mag_auto_g_cor_f)),\n",
    "    ('magerr_auto_g', pd.Series(magerr_auto_g_f)),\n",
    "    ('mag_auto_r_corr', pd.Series(mag_auto_r_cor_f)),\n",
    "    ('magerr_auto_r', pd.Series(magerr_auto_r_f)),\n",
    "    ('mag_auto_i_corr', pd.Series(mag_auto_i_cor_f)),\n",
    "    ('magerr_auto_i', pd.Series(magerr_auto_i_f)),\n",
    "    ('flux_radius_g_asec', pd.Series(flux_radius_g_f)),\n",
    "    ('flux_radius_r_asec', pd.Series(flux_radius_r_f)),\n",
    "    ('flux_radius_i_asec', pd.Series(flux_radius_i_f)),\n",
    "    ('mag_gfm_g_corr', pd.Series(mag_gf_g_cor_f)),\n",
    "    ('magerr_gfm_g', pd.Series(magerr_gf_g_f)),\n",
    "    ('mag_gfm_r_corr', pd.Series(mag_gf_r_cor_f)),\n",
    "    ('magerr_gfm_r', pd.Series(magerr_gf_r_f)),\n",
    "    ('mag_gfm_i_corr', pd.Series(mag_gf_i_cor_f)),\n",
    "    ('magerr_gfm_i', pd.Series(magerr_gf_i_f)),\n",
    "    ('n', pd.Series(n_ser_f)), ('n_err', pd.Series(n_ser_err_f)),\n",
    "    ('R_eff_g', pd.Series(R_eff_g_f)),('R_eff_err_g', pd.Series(R_eff_g_err_f)),\n",
    "    ('R_eff_r', pd.Series(R_eff_r_f)),('R_eff_err_r', pd.Series(R_eff_r_err_f)),\n",
    "    ('R_eff_i', pd.Series(R_eff_i_f)),('R_eff_err_i', pd.Series(R_eff_i_err_f)),\n",
    "    ('chisq_loc_g', pd.Series(chi2_g_f)),\n",
    "    ('chisq_loc_r', pd.Series(chi2_r_f)),\n",
    "    ('chisq_loc_i', pd.Series(chi2_i_f)),\n",
    "    ('mu_mean_g', pd.Series(mu_mean_g_f)), ('mu_mean_r', pd.Series(mu_mean_r_f)),\n",
    "    ('mu_mean_i', pd.Series(mu_mean_i_f)),\n",
    "    ('mu_0_g',pd.Series(mu_cent_g_f)),('mu_0_r',pd.Series(mu_cent_r_f)),\n",
    "    ('mu_0_i',pd.Series(mu_cent_i_f))\n",
    "\n",
    "\n",
    ")))"
   ]
  },
  {
   "cell_type": "code",
   "execution_count": null,
   "metadata": {},
   "outputs": [],
   "source": [
    "#LSBG_df.head()"
   ]
  },
  {
   "cell_type": "code",
   "execution_count": null,
   "metadata": {},
   "outputs": [],
   "source": [
    "LSBG_df.to_csv('LSBG_catalog.csv')"
   ]
  },
  {
   "cell_type": "code",
   "execution_count": null,
   "metadata": {},
   "outputs": [],
   "source": [
    "#Galfit_res_s = fits.open('y3_gold_2_2_lsbg_galfit_v4.6.fits')\n",
    "#Galfit_res_s[1].header.keys"
   ]
  },
  {
   "cell_type": "code",
   "execution_count": null,
   "metadata": {},
   "outputs": [],
   "source": [
    "#DEC = Galfit_res_s[1].data[\"DELTA_J2000\"]"
   ]
  },
  {
   "cell_type": "code",
   "execution_count": null,
   "metadata": {},
   "outputs": [],
   "source": [
    "ral = 28.6723\n",
    "decl = - 0.1432\n",
    "alpha = 0.2\n",
    "box = (RA_f>(ral-alpha))&(RA_f<(ral+alpha))&(DEC_f>(decl-alpha))&(DEC_f<(decl+alpha))\n",
    "print(RA_f[box],DEC_f[box])"
   ]
  },
  {
   "cell_type": "code",
   "execution_count": null,
   "metadata": {},
   "outputs": [],
   "source": []
  }
 ],
 "metadata": {
  "kernelspec": {
   "display_name": "Python 2",
   "language": "python",
   "name": "python2"
  },
  "language_info": {
   "codemirror_mode": {
    "name": "ipython",
    "version": 2
   },
   "file_extension": ".py",
   "mimetype": "text/x-python",
   "name": "python",
   "nbconvert_exporter": "python",
   "pygments_lexer": "ipython2",
   "version": "2.7.13"
  }
 },
 "nbformat": 4,
 "nbformat_minor": 2
}
